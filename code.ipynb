{
 "cells": [
  {
   "cell_type": "code",
   "execution_count": null,
   "metadata": {},
   "outputs": [],
   "source": []
  },
  {
   "cell_type": "markdown",
   "metadata": {},
   "source": [
    "# repo-100-data-structure-road-map\n",
    "here im giving best roadmap for learning the DSA (data-structure-algorithms)\n",
    "\n",
    "## Programming fundamentals:\n",
    "* variables , data types, and operators\n",
    "* control flow (loops , conditionals)\n",
    "* function and modular programming \n",
    "* input/output and file handling\n",
    "\n",
    "# Basic Data Structures:\n",
    "* Arrays and dynamic arrays\n",
    "* Linked lists (singly linked , doubly linked)\n",
    "* Stacks and queues (array-based, linked list-based)\n",
    "* Hash tables (hash functions , collision handling)\n",
    "\n",
    "# Basic Algorithms:\n",
    "1. Linear Search\n",
    "2. Binary Search\n",
    "3. Bubble Search\n",
    "4. Insertion Sort\n",
    "5. Selection Sort\n",
    "\n",
    "## Advanced Data structure:\n",
    "* Trees (Binary trees, Binary search trees)\n",
    "* Balanced trees ( AVL trees, red-black trees)\n",
    "* Heaps (binary heap, priority queue)\n",
    "* Graph (Representation , traversal)\n",
    "\n",
    "## Advanced Algorithms:\n",
    "* Divide and conquer (Merge sort , quick-sort)\n",
    "* Dynamic pogramming (Fibonacci-sequence, knapsack problem)\n",
    "* Graph Algorithms (breadth-first search,depth-first search)\n",
    "* shortest path algorithms (Dijkstra's algorithm, Bellman-Ford Algorithm)\n",
    "\n",
    "## Problem solving Practices:\n",
    "* solving coding problems ( GFG , Hackerrank , Leetcode, etc)\n",
    "* Algorithm complexity Analysis (time , space complexity)\n",
    "* problem-solving-techniques (logical reasoning , algorithmic design)\n",
    "\n",
    "## Algorithm Techniques :\n",
    "1. Recursive and backtrcking:\n",
    "2. Greedy Algorithms\n",
    "3. Sliding window technique\n",
    "4. Two-pointer-technique\n",
    "5. Divide and conquer strategies\n",
    "\n",
    "## Practise Projects:\n",
    "* Implementing data structures and algorithms in pratical projects\n",
    "* solving real world problems using algorithms\n",
    "* Optimizing algorithms to effciency and performance\n",
    "\n",
    "## Continuess Learning....!\n",
    "* Reading E-books etc\n",
    "* Exploring research papers and online resources etc .."
   ]
  }
 ],
 "metadata": {
  "language_info": {
   "name": "python"
  }
 },
 "nbformat": 4,
 "nbformat_minor": 2
}
